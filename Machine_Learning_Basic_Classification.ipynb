{
  "nbformat": 4,
  "nbformat_minor": 0,
  "metadata": {
    "kernelspec": {
      "display_name": "Python 3",
      "language": "python",
      "name": "python3"
    },
    "language_info": {
      "codemirror_mode": {
        "name": "ipython",
        "version": 3
      },
      "file_extension": ".py",
      "mimetype": "text/x-python",
      "name": "python",
      "nbconvert_exporter": "python",
      "pygments_lexer": "ipython3",
      "version": "3.7.4"
    },
    "colab": {
      "name": "Machine Learning Basic Classification",
      "provenance": [],
      "collapsed_sections": [],
      "toc_visible": true
    }
  },
  "cells": [
    {
      "cell_type": "code",
      "metadata": {
        "id": "JZCl1FfPgzLj",
        "colab": {
          "base_uri": "https://localhost:8080/"
        },
        "outputId": "620c8880-512e-4539-c90a-fc2580bed4f2"
      },
      "source": [
        "print(\"Hello WOrld\")"
      ],
      "execution_count": 2,
      "outputs": [
        {
          "output_type": "stream",
          "text": [
            "Hello WOrld\n"
          ],
          "name": "stdout"
        }
      ]
    },
    {
      "cell_type": "code",
      "metadata": {
        "id": "AlcPhPp0gzLq"
      },
      "source": [
        "import pandas as pd\n",
        "import numpy as np\n"
      ],
      "execution_count": 1,
      "outputs": []
    },
    {
      "cell_type": "code",
      "metadata": {
        "id": "lG-87811gzLt"
      },
      "source": [
        "df = pd.read_csv(\"data training.csv\")"
      ],
      "execution_count": null,
      "outputs": []
    },
    {
      "cell_type": "code",
      "metadata": {
        "id": "x0hsKBA_gzLv",
        "colab": {
          "base_uri": "https://localhost:8080/",
          "height": 119
        },
        "outputId": "15114856-10df-440a-e654-580d2107bdd5"
      },
      "source": [
        "print(df.head())"
      ],
      "execution_count": null,
      "outputs": [
        {
          "output_type": "stream",
          "text": [
            "   Att1    Att2   Att3  Att4  Att5  Att6 Class\n",
            "0   2.5   Besar  Hijau    48  77.0     3     A\n",
            "1   NaN   Besar  Hijau    36  62.0     3     B\n",
            "2   1.2   Besar  Merah    36  63.0     3     A\n",
            "3   8.2  Sedang   Biru    12  32.0     2     C\n",
            "4   4.4  Sedang  Merah    36  74.0     3     A\n"
          ],
          "name": "stdout"
        }
      ]
    },
    {
      "cell_type": "code",
      "metadata": {
        "id": "4mna5mh9gzL1",
        "colab": {
          "base_uri": "https://localhost:8080/",
          "height": 221
        },
        "outputId": "9f3ff065-ae57-4fe5-e7e8-80489fc1e886"
      },
      "source": [
        "print(df['Att1'])"
      ],
      "execution_count": null,
      "outputs": [
        {
          "output_type": "stream",
          "text": [
            "0      2.5\n",
            "1      NaN\n",
            "2      1.2\n",
            "3      8.2\n",
            "4      4.4\n",
            "5      5.7\n",
            "6      7.7\n",
            "7      8.5\n",
            "8     10.9\n",
            "9      5.8\n",
            "10     3.9\n",
            "Name: Att1, dtype: float64\n"
          ],
          "name": "stdout"
        }
      ]
    },
    {
      "cell_type": "code",
      "metadata": {
        "id": "AwI3YE1XgzL4",
        "colab": {
          "base_uri": "https://localhost:8080/",
          "height": 221
        },
        "outputId": "c75488ee-c3df-4533-805b-5e3d93c2e34d"
      },
      "source": [
        "print(df['Att1'].isnull())"
      ],
      "execution_count": null,
      "outputs": [
        {
          "output_type": "stream",
          "text": [
            "0     False\n",
            "1      True\n",
            "2     False\n",
            "3     False\n",
            "4     False\n",
            "5     False\n",
            "6     False\n",
            "7     False\n",
            "8     False\n",
            "9     False\n",
            "10    False\n",
            "Name: Att1, dtype: bool\n"
          ],
          "name": "stdout"
        }
      ]
    },
    {
      "cell_type": "code",
      "metadata": {
        "id": "oIUA_nbggzL7",
        "colab": {
          "base_uri": "https://localhost:8080/",
          "height": 153
        },
        "outputId": "06024846-e249-4832-81e0-b11e532bf8fa"
      },
      "source": [
        "print(df.isnull().sum())"
      ],
      "execution_count": null,
      "outputs": [
        {
          "output_type": "stream",
          "text": [
            "Att1     1\n",
            "Att2     1\n",
            "Att3     0\n",
            "Att4     0\n",
            "Att5     1\n",
            "Att6     0\n",
            "Class    0\n",
            "dtype: int64\n"
          ],
          "name": "stdout"
        }
      ]
    },
    {
      "cell_type": "code",
      "metadata": {
        "id": "mTtOyJx7gzL-"
      },
      "source": [
        "median = df['Att1'].median()\n",
        "df['Att1'].fillna(median, inplace=True)"
      ],
      "execution_count": null,
      "outputs": []
    },
    {
      "cell_type": "code",
      "metadata": {
        "id": "jLT_PzLfgzMB",
        "outputId": "6bea7a4d-349c-4d34-c79e-a5f213604c6b"
      },
      "source": [
        "print(df['Att1'])"
      ],
      "execution_count": null,
      "outputs": [
        {
          "output_type": "stream",
          "text": [
            "0      2.50\n",
            "1      5.75\n",
            "2      1.20\n",
            "3      8.20\n",
            "4      4.40\n",
            "5      5.70\n",
            "6      7.70\n",
            "7      8.50\n",
            "8     10.90\n",
            "9      5.80\n",
            "10     3.90\n",
            "Name: Att1, dtype: float64\n"
          ],
          "name": "stdout"
        }
      ]
    },
    {
      "cell_type": "code",
      "metadata": {
        "id": "OSCj0sWcgzME"
      },
      "source": [
        "median = df['Att5'].median()\n",
        "df['Att5'].fillna(median, inplace=True)"
      ],
      "execution_count": null,
      "outputs": []
    },
    {
      "cell_type": "code",
      "metadata": {
        "id": "VJ9l0WcGgzMH",
        "outputId": "d044fdb2-4b2e-495c-ab6b-126cd7dc53c3"
      },
      "source": [
        "print(df['Att5'])"
      ],
      "execution_count": null,
      "outputs": [
        {
          "output_type": "stream",
          "text": [
            "0     77.0\n",
            "1     62.0\n",
            "2     63.0\n",
            "3     32.0\n",
            "4     74.0\n",
            "5     42.0\n",
            "6     20.0\n",
            "7     57.0\n",
            "8     16.0\n",
            "9     52.0\n",
            "10    81.0\n",
            "Name: Att5, dtype: float64\n"
          ],
          "name": "stdout"
        }
      ]
    },
    {
      "cell_type": "code",
      "metadata": {
        "id": "A3C7CJ84gzMK",
        "outputId": "87356921-34bd-47d4-f9fa-c0d64a47db10"
      },
      "source": [
        "print(df['Att2'])"
      ],
      "execution_count": null,
      "outputs": [
        {
          "output_type": "stream",
          "text": [
            "0      Besar\n",
            "1      Besar\n",
            "2      Besar\n",
            "3     Sedang\n",
            "4     Sedang\n",
            "5      Kecil\n",
            "6      Kecil\n",
            "7     Sedang\n",
            "8      Besar\n",
            "9      Besar\n",
            "10       NaN\n",
            "Name: Att2, dtype: object\n"
          ],
          "name": "stdout"
        }
      ]
    },
    {
      "cell_type": "code",
      "metadata": {
        "id": "dt1d3OxTgzMN"
      },
      "source": [
        "from sklearn.impute import SimpleImputer"
      ],
      "execution_count": null,
      "outputs": []
    },
    {
      "cell_type": "code",
      "metadata": {
        "id": "U33rSBM2gzMQ"
      },
      "source": [
        "atrib = pd.DataFrame(df)"
      ],
      "execution_count": null,
      "outputs": []
    },
    {
      "cell_type": "code",
      "metadata": {
        "id": "GKCmmvvvgzMT",
        "colab": {
          "base_uri": "https://localhost:8080/",
          "height": 221
        },
        "outputId": "810397f4-f2ef-490c-8e11-696ade4c326c"
      },
      "source": [
        "print(atrib)"
      ],
      "execution_count": null,
      "outputs": [
        {
          "output_type": "stream",
          "text": [
            "     Att1    Att2   Att3  Att4  Att5  Att6 Class\n",
            "0    2.50   Besar  Hijau    48  77.0     3     A\n",
            "1    5.75   Besar  Hijau    36  62.0     3     B\n",
            "2    1.20   Besar  Merah    36  63.0     3     A\n",
            "3    8.20  Sedang   Biru    12  32.0     2     C\n",
            "4    4.40  Sedang  Merah    36  74.0     3     A\n",
            "5    5.70   Kecil  Hijau    24  42.0     3     B\n",
            "6    7.70   Kecil  Merah    12  20.0     2     C\n",
            "7    8.50  Sedang  Merah    24   NaN     3     C\n",
            "8   10.90   Besar   Biru    12  16.0     2     C\n",
            "9    5.80   Besar   Biru    24  52.0     3     B\n",
            "10   3.90     NaN  Hijau    48  81.0     3     A\n"
          ],
          "name": "stdout"
        }
      ]
    },
    {
      "cell_type": "code",
      "metadata": {
        "id": "HrI6Cbq0gzMW",
        "colab": {
          "base_uri": "https://localhost:8080/",
          "height": 390
        },
        "outputId": "27284de7-c0f6-4c23-a774-5e424212d29f"
      },
      "source": [
        "df_most_common_imputed = atrib.apply(lambda x: x.fillna(x.value_counts().index[0]))\n",
        "df_most_common_imputed"
      ],
      "execution_count": null,
      "outputs": [
        {
          "output_type": "execute_result",
          "data": {
            "text/html": [
              "<div>\n",
              "<style scoped>\n",
              "    .dataframe tbody tr th:only-of-type {\n",
              "        vertical-align: middle;\n",
              "    }\n",
              "\n",
              "    .dataframe tbody tr th {\n",
              "        vertical-align: top;\n",
              "    }\n",
              "\n",
              "    .dataframe thead th {\n",
              "        text-align: right;\n",
              "    }\n",
              "</style>\n",
              "<table border=\"1\" class=\"dataframe\">\n",
              "  <thead>\n",
              "    <tr style=\"text-align: right;\">\n",
              "      <th></th>\n",
              "      <th>Att1</th>\n",
              "      <th>Att2</th>\n",
              "      <th>Att3</th>\n",
              "      <th>Att4</th>\n",
              "      <th>Att5</th>\n",
              "      <th>Att6</th>\n",
              "      <th>Class</th>\n",
              "    </tr>\n",
              "  </thead>\n",
              "  <tbody>\n",
              "    <tr>\n",
              "      <th>0</th>\n",
              "      <td>2.50</td>\n",
              "      <td>Besar</td>\n",
              "      <td>Hijau</td>\n",
              "      <td>48</td>\n",
              "      <td>77.0</td>\n",
              "      <td>3</td>\n",
              "      <td>A</td>\n",
              "    </tr>\n",
              "    <tr>\n",
              "      <th>1</th>\n",
              "      <td>5.75</td>\n",
              "      <td>Besar</td>\n",
              "      <td>Hijau</td>\n",
              "      <td>36</td>\n",
              "      <td>62.0</td>\n",
              "      <td>3</td>\n",
              "      <td>B</td>\n",
              "    </tr>\n",
              "    <tr>\n",
              "      <th>2</th>\n",
              "      <td>1.20</td>\n",
              "      <td>Besar</td>\n",
              "      <td>Merah</td>\n",
              "      <td>36</td>\n",
              "      <td>63.0</td>\n",
              "      <td>3</td>\n",
              "      <td>A</td>\n",
              "    </tr>\n",
              "    <tr>\n",
              "      <th>3</th>\n",
              "      <td>8.20</td>\n",
              "      <td>Sedang</td>\n",
              "      <td>Biru</td>\n",
              "      <td>12</td>\n",
              "      <td>32.0</td>\n",
              "      <td>2</td>\n",
              "      <td>C</td>\n",
              "    </tr>\n",
              "    <tr>\n",
              "      <th>4</th>\n",
              "      <td>4.40</td>\n",
              "      <td>Sedang</td>\n",
              "      <td>Merah</td>\n",
              "      <td>36</td>\n",
              "      <td>74.0</td>\n",
              "      <td>3</td>\n",
              "      <td>A</td>\n",
              "    </tr>\n",
              "    <tr>\n",
              "      <th>5</th>\n",
              "      <td>5.70</td>\n",
              "      <td>Kecil</td>\n",
              "      <td>Hijau</td>\n",
              "      <td>24</td>\n",
              "      <td>42.0</td>\n",
              "      <td>3</td>\n",
              "      <td>B</td>\n",
              "    </tr>\n",
              "    <tr>\n",
              "      <th>6</th>\n",
              "      <td>7.70</td>\n",
              "      <td>Kecil</td>\n",
              "      <td>Merah</td>\n",
              "      <td>12</td>\n",
              "      <td>20.0</td>\n",
              "      <td>2</td>\n",
              "      <td>C</td>\n",
              "    </tr>\n",
              "    <tr>\n",
              "      <th>7</th>\n",
              "      <td>8.50</td>\n",
              "      <td>Sedang</td>\n",
              "      <td>Merah</td>\n",
              "      <td>24</td>\n",
              "      <td>81.0</td>\n",
              "      <td>3</td>\n",
              "      <td>C</td>\n",
              "    </tr>\n",
              "    <tr>\n",
              "      <th>8</th>\n",
              "      <td>10.90</td>\n",
              "      <td>Besar</td>\n",
              "      <td>Biru</td>\n",
              "      <td>12</td>\n",
              "      <td>16.0</td>\n",
              "      <td>2</td>\n",
              "      <td>C</td>\n",
              "    </tr>\n",
              "    <tr>\n",
              "      <th>9</th>\n",
              "      <td>5.80</td>\n",
              "      <td>Besar</td>\n",
              "      <td>Biru</td>\n",
              "      <td>24</td>\n",
              "      <td>52.0</td>\n",
              "      <td>3</td>\n",
              "      <td>B</td>\n",
              "    </tr>\n",
              "    <tr>\n",
              "      <th>10</th>\n",
              "      <td>3.90</td>\n",
              "      <td>Besar</td>\n",
              "      <td>Hijau</td>\n",
              "      <td>48</td>\n",
              "      <td>81.0</td>\n",
              "      <td>3</td>\n",
              "      <td>A</td>\n",
              "    </tr>\n",
              "  </tbody>\n",
              "</table>\n",
              "</div>"
            ],
            "text/plain": [
              "     Att1    Att2   Att3  Att4  Att5  Att6 Class\n",
              "0    2.50   Besar  Hijau    48  77.0     3     A\n",
              "1    5.75   Besar  Hijau    36  62.0     3     B\n",
              "2    1.20   Besar  Merah    36  63.0     3     A\n",
              "3    8.20  Sedang   Biru    12  32.0     2     C\n",
              "4    4.40  Sedang  Merah    36  74.0     3     A\n",
              "5    5.70   Kecil  Hijau    24  42.0     3     B\n",
              "6    7.70   Kecil  Merah    12  20.0     2     C\n",
              "7    8.50  Sedang  Merah    24  81.0     3     C\n",
              "8   10.90   Besar   Biru    12  16.0     2     C\n",
              "9    5.80   Besar   Biru    24  52.0     3     B\n",
              "10   3.90   Besar  Hijau    48  81.0     3     A"
            ]
          },
          "metadata": {
            "tags": []
          },
          "execution_count": 25
        }
      ]
    },
    {
      "cell_type": "code",
      "metadata": {
        "id": "9lLAaLeDgzMZ"
      },
      "source": [
        "df_most_common_imputed = df.apply(lambda x: x.fillna(x.value_counts().index[0]))\n",
        "df = df_most_common_imputed"
      ],
      "execution_count": null,
      "outputs": []
    },
    {
      "cell_type": "code",
      "metadata": {
        "id": "IaCIqFfsgzMc",
        "colab": {
          "base_uri": "https://localhost:8080/",
          "height": 221
        },
        "outputId": "e6db3714-d406-45e9-970a-8ff7df1307b2"
      },
      "source": [
        "print(df)"
      ],
      "execution_count": null,
      "outputs": [
        {
          "output_type": "stream",
          "text": [
            "     Att1    Att2   Att3  Att4  Att5  Att6 Class\n",
            "0    2.50   Besar  Hijau    48  77.0     3     A\n",
            "1    5.75   Besar  Hijau    36  62.0     3     B\n",
            "2    1.20   Besar  Merah    36  63.0     3     A\n",
            "3    8.20  Sedang   Biru    12  32.0     2     C\n",
            "4    4.40  Sedang  Merah    36  74.0     3     A\n",
            "5    5.70   Kecil  Hijau    24  42.0     3     B\n",
            "6    7.70   Kecil  Merah    12  20.0     2     C\n",
            "7    8.50  Sedang  Merah    24  81.0     3     C\n",
            "8   10.90   Besar   Biru    12  16.0     2     C\n",
            "9    5.80   Besar   Biru    24  52.0     3     B\n",
            "10   3.90   Besar  Hijau    48  81.0     3     A\n"
          ],
          "name": "stdout"
        }
      ]
    },
    {
      "cell_type": "code",
      "metadata": {
        "id": "ZjBnfhixgzMe"
      },
      "source": [
        "import seaborn as sns"
      ],
      "execution_count": null,
      "outputs": []
    },
    {
      "cell_type": "code",
      "metadata": {
        "id": "ZnQ5xhLHgzMh",
        "colab": {
          "base_uri": "https://localhost:8080/",
          "height": 269
        },
        "outputId": "80654bd3-56b1-4b15-9ef3-2f19bc4305cb"
      },
      "source": [
        "sns.boxplot(y = 'Att1', data=df )"
      ],
      "execution_count": null,
      "outputs": [
        {
          "output_type": "execute_result",
          "data": {
            "text/plain": [
              "<matplotlib.axes._subplots.AxesSubplot at 0x7fb8565e8710>"
            ]
          },
          "metadata": {
            "tags": []
          },
          "execution_count": 30
        },
        {
          "output_type": "display_data",
          "data": {
            "image/png": "[encoded data removed]",
            "text/plain": [
              "<Figure size 432x288 with 1 Axes>"
            ]
          },
          "metadata": {
            "tags": []
          }
        }
      ]
    },
    {
      "cell_type": "code",
      "metadata": {
        "id": "nTonmFGbgzMk",
        "colab": {
          "base_uri": "https://localhost:8080/",
          "height": 269
        },
        "outputId": "9ded3f58-5be1-48f5-bdc8-3db0f1e297f9"
      },
      "source": [
        "sns.boxplot(y = 'Att4', data=df )"
      ],
      "execution_count": null,
      "outputs": [
        {
          "output_type": "execute_result",
          "data": {
            "text/plain": [
              "<matplotlib.axes._subplots.AxesSubplot at 0x7fb8560dc940>"
            ]
          },
          "metadata": {
            "tags": []
          },
          "execution_count": 31
        },
        {
          "output_type": "display_data",
          "data": {
            "image/png": "[encoded data removed]",
            "text/plain": [
              "<Figure size 432x288 with 1 Axes>"
            ]
          },
          "metadata": {
            "tags": []
          }
        }
      ]
    },
    {
      "cell_type": "code",
      "metadata": {
        "id": "0HnjmuBXgzMo",
        "colab": {
          "base_uri": "https://localhost:8080/",
          "height": 269
        },
        "outputId": "1f17a140-87a0-400a-8246-b70a3f016c52"
      },
      "source": [
        "sns.boxplot(y = 'Att5', data=df )"
      ],
      "execution_count": null,
      "outputs": [
        {
          "output_type": "execute_result",
          "data": {
            "text/plain": [
              "<matplotlib.axes._subplots.AxesSubplot at 0x7fb856046780>"
            ]
          },
          "metadata": {
            "tags": []
          },
          "execution_count": 32
        },
        {
          "output_type": "display_data",
          "data": {
            "image/png": "[encoded data removed]",
            "text/plain": [
              "<Figure size 432x288 with 1 Axes>"
            ]
          },
          "metadata": {
            "tags": []
          }
        }
      ]
    },
    {
      "cell_type": "code",
      "metadata": {
        "id": "BR_T6ctwgzMq",
        "colab": {
          "base_uri": "https://localhost:8080/",
          "height": 265
        },
        "outputId": "67f467ba-8a21-4399-8462-5c2e6aeba61c"
      },
      "source": [
        "df.boxplot(column= 'Att1');"
      ],
      "execution_count": null,
      "outputs": [
        {
          "output_type": "display_data",
          "data": {
            "image/png": "[encoded data removed]",
            "text/plain": [
              "<Figure size 432x288 with 1 Axes>"
            ]
          },
          "metadata": {
            "tags": []
          }
        }
      ]
    },
    {
      "cell_type": "code",
      "metadata": {
        "id": "dXk8qKF-gzMs",
        "colab": {
          "base_uri": "https://localhost:8080/",
          "height": 265
        },
        "outputId": "da2f4a91-ee3d-4c21-c7a8-e29cea533ea5"
      },
      "source": [
        "df.boxplot(column= 'Att4');"
      ],
      "execution_count": null,
      "outputs": [
        {
          "output_type": "display_data",
          "data": {
            "image/png": "[encoded data removed]",
            "text/plain": [
              "<Figure size 432x288 with 1 Axes>"
            ]
          },
          "metadata": {
            "tags": []
          }
        }
      ]
    },
    {
      "cell_type": "code",
      "metadata": {
        "id": "2IHpGASdgzMv",
        "colab": {
          "base_uri": "https://localhost:8080/",
          "height": 265
        },
        "outputId": "7966ae6e-21c5-4a43-80e9-a58fb16350ec"
      },
      "source": [
        "df.boxplot(column= 'Att5');"
      ],
      "execution_count": null,
      "outputs": [
        {
          "output_type": "display_data",
          "data": {
            "image/png": "[encoded data removed]",
            "text/plain": [
              "<Figure size 432x288 with 1 Axes>"
            ]
          },
          "metadata": {
            "tags": []
          }
        }
      ]
    },
    {
      "cell_type": "code",
      "metadata": {
        "id": "LjLmRszHgzM1"
      },
      "source": [
        "from sklearn.preprocessing import LabelEncoder"
      ],
      "execution_count": null,
      "outputs": []
    },
    {
      "cell_type": "code",
      "metadata": {
        "id": "FXD7jcF8gzM3",
        "colab": {
          "base_uri": "https://localhost:8080/",
          "height": 153
        },
        "outputId": "3c17318a-6cdd-4c71-f3df-ce618559ee19"
      },
      "source": [
        "df.dtypes"
      ],
      "execution_count": null,
      "outputs": [
        {
          "output_type": "execute_result",
          "data": {
            "text/plain": [
              "Att1     float64\n",
              "Att2      object\n",
              "Att3      object\n",
              "Att4       int64\n",
              "Att5     float64\n",
              "Att6       int64\n",
              "Class     object\n",
              "dtype: object"
            ]
          },
          "metadata": {
            "tags": []
          },
          "execution_count": 37
        }
      ]
    },
    {
      "cell_type": "code",
      "metadata": {
        "id": "wwqnYOKLgzM5"
      },
      "source": [
        "dummie = {\"Att2\":  {\"Besar\": 3, \"Sedang\": 2, \"Kecil\":1},\n",
        "          \"Att3\": {\"Hijau\": 3, \"Merah\": 2, \"Biru\": 1 }}"
      ],
      "execution_count": null,
      "outputs": []
    },
    {
      "cell_type": "code",
      "metadata": {
        "id": "wJHddCQqgzM8"
      },
      "source": [
        "df.replace(dummie, inplace=True)"
      ],
      "execution_count": null,
      "outputs": []
    },
    {
      "cell_type": "code",
      "metadata": {
        "id": "CCqbbTxBgzM-",
        "colab": {
          "base_uri": "https://localhost:8080/",
          "height": 221
        },
        "outputId": "afc2c7cb-b619-4187-8eff-07d92badb8bf"
      },
      "source": [
        "print(df)"
      ],
      "execution_count": null,
      "outputs": [
        {
          "output_type": "stream",
          "text": [
            "     Att1  Att2  Att3  Att4  Att5  Att6 Class\n",
            "0    2.50     3     3    48  77.0     3     A\n",
            "1    5.75     3     3    36  62.0     3     B\n",
            "2    1.20     3     2    36  63.0     3     A\n",
            "3    8.20     2     1    12  32.0     2     C\n",
            "4    4.40     2     2    36  74.0     3     A\n",
            "5    5.70     1     3    24  42.0     3     B\n",
            "6    7.70     1     2    12  20.0     2     C\n",
            "7    8.50     2     2    24  81.0     3     C\n",
            "8   10.90     3     1    12  16.0     2     C\n",
            "9    5.80     3     1    24  52.0     3     B\n",
            "10   3.90     3     3    48  81.0     3     A\n"
          ],
          "name": "stdout"
        }
      ]
    },
    {
      "cell_type": "code",
      "metadata": {
        "id": "NKzNY13ggzNA",
        "colab": {
          "base_uri": "https://localhost:8080/",
          "height": 235
        },
        "outputId": "db85035e-8f76-4f44-82d4-389d495d129c"
      },
      "source": [
        "df.corr()"
      ],
      "execution_count": null,
      "outputs": [
        {
          "output_type": "execute_result",
          "data": {
            "text/html": [
              "<div>\n",
              "<style scoped>\n",
              "    .dataframe tbody tr th:only-of-type {\n",
              "        vertical-align: middle;\n",
              "    }\n",
              "\n",
              "    .dataframe tbody tr th {\n",
              "        vertical-align: top;\n",
              "    }\n",
              "\n",
              "    .dataframe thead th {\n",
              "        text-align: right;\n",
              "    }\n",
              "</style>\n",
              "<table border=\"1\" class=\"dataframe\">\n",
              "  <thead>\n",
              "    <tr style=\"text-align: right;\">\n",
              "      <th></th>\n",
              "      <th>Att1</th>\n",
              "      <th>Att2</th>\n",
              "      <th>Att3</th>\n",
              "      <th>Att4</th>\n",
              "      <th>Att5</th>\n",
              "      <th>Att6</th>\n",
              "    </tr>\n",
              "  </thead>\n",
              "  <tbody>\n",
              "    <tr>\n",
              "      <th>Att1</th>\n",
              "      <td>1.000000</td>\n",
              "      <td>-0.297688</td>\n",
              "      <td>-0.548611</td>\n",
              "      <td>-0.823283</td>\n",
              "      <td>-0.639049</td>\n",
              "      <td>-0.694925</td>\n",
              "    </tr>\n",
              "    <tr>\n",
              "      <th>Att2</th>\n",
              "      <td>-0.297688</td>\n",
              "      <td>1.000000</td>\n",
              "      <td>-0.054074</td>\n",
              "      <td>0.501608</td>\n",
              "      <td>0.364700</td>\n",
              "      <td>0.288675</td>\n",
              "    </tr>\n",
              "    <tr>\n",
              "      <th>Att3</th>\n",
              "      <td>-0.548611</td>\n",
              "      <td>-0.054074</td>\n",
              "      <td>1.000000</td>\n",
              "      <td>0.712814</td>\n",
              "      <td>0.538612</td>\n",
              "      <td>0.585366</td>\n",
              "    </tr>\n",
              "    <tr>\n",
              "      <th>Att4</th>\n",
              "      <td>-0.823283</td>\n",
              "      <td>0.501608</td>\n",
              "      <td>0.712814</td>\n",
              "      <td>1.000000</td>\n",
              "      <td>0.851155</td>\n",
              "      <td>0.781929</td>\n",
              "    </tr>\n",
              "    <tr>\n",
              "      <th>Att5</th>\n",
              "      <td>-0.639049</td>\n",
              "      <td>0.364700</td>\n",
              "      <td>0.538612</td>\n",
              "      <td>0.851155</td>\n",
              "      <td>1.000000</td>\n",
              "      <td>0.853051</td>\n",
              "    </tr>\n",
              "    <tr>\n",
              "      <th>Att6</th>\n",
              "      <td>-0.694925</td>\n",
              "      <td>0.288675</td>\n",
              "      <td>0.585366</td>\n",
              "      <td>0.781929</td>\n",
              "      <td>0.853051</td>\n",
              "      <td>1.000000</td>\n",
              "    </tr>\n",
              "  </tbody>\n",
              "</table>\n",
              "</div>"
            ],
            "text/plain": [
              "          Att1      Att2      Att3      Att4      Att5      Att6\n",
              "Att1  1.000000 -0.297688 -0.548611 -0.823283 -0.639049 -0.694925\n",
              "Att2 -0.297688  1.000000 -0.054074  0.501608  0.364700  0.288675\n",
              "Att3 -0.548611 -0.054074  1.000000  0.712814  0.538612  0.585366\n",
              "Att4 -0.823283  0.501608  0.712814  1.000000  0.851155  0.781929\n",
              "Att5 -0.639049  0.364700  0.538612  0.851155  1.000000  0.853051\n",
              "Att6 -0.694925  0.288675  0.585366  0.781929  0.853051  1.000000"
            ]
          },
          "metadata": {
            "tags": []
          },
          "execution_count": 45
        }
      ]
    },
    {
      "cell_type": "code",
      "metadata": {
        "id": "MCDTxZ_ZgzNE",
        "colab": {
          "base_uri": "https://localhost:8080/",
          "height": 231
        },
        "outputId": "62076176-1997-43c3-d5a3-e1216d52a0c2"
      },
      "source": [
        "plt.matshow(df.corr())\n",
        "plt.xticks(range(len(df.columns)-1), df.columns)\n",
        "plt.yticks(range(len(df.columns)-1), df.columns)\n",
        "plt.colorbar()\n",
        "plt.show()"
      ],
      "execution_count": null,
      "outputs": [
        {
          "output_type": "error",
          "ename": "NameError",
          "evalue": "ignored",
          "traceback": [
            "\u001b[0;31m---------------------------------------------------------------------------\u001b[0m",
            "\u001b[0;31mNameError\u001b[0m                                 Traceback (most recent call last)",
            "\u001b[0;32m<ipython-input-46-764ec801b1c0>\u001b[0m in \u001b[0;36m<module>\u001b[0;34m()\u001b[0m\n\u001b[0;32m----> 1\u001b[0;31m \u001b[0mplt\u001b[0m\u001b[0;34m.\u001b[0m\u001b[0mmatshow\u001b[0m\u001b[0;34m(\u001b[0m\u001b[0mdf\u001b[0m\u001b[0;34m.\u001b[0m\u001b[0mcorr\u001b[0m\u001b[0;34m(\u001b[0m\u001b[0;34m)\u001b[0m\u001b[0;34m)\u001b[0m\u001b[0;34m\u001b[0m\u001b[0;34m\u001b[0m\u001b[0m\n\u001b[0m\u001b[1;32m      2\u001b[0m \u001b[0mplt\u001b[0m\u001b[0;34m.\u001b[0m\u001b[0mxticks\u001b[0m\u001b[0;34m(\u001b[0m\u001b[0mrange\u001b[0m\u001b[0;34m(\u001b[0m\u001b[0mlen\u001b[0m\u001b[0;34m(\u001b[0m\u001b[0mdf\u001b[0m\u001b[0;34m.\u001b[0m\u001b[0mcolumns\u001b[0m\u001b[0;34m)\u001b[0m\u001b[0;34m-\u001b[0m\u001b[0;36m1\u001b[0m\u001b[0;34m)\u001b[0m\u001b[0;34m,\u001b[0m \u001b[0mdf\u001b[0m\u001b[0;34m.\u001b[0m\u001b[0mcolumns\u001b[0m\u001b[0;34m)\u001b[0m\u001b[0;34m\u001b[0m\u001b[0;34m\u001b[0m\u001b[0m\n\u001b[1;32m      3\u001b[0m \u001b[0mplt\u001b[0m\u001b[0;34m.\u001b[0m\u001b[0myticks\u001b[0m\u001b[0;34m(\u001b[0m\u001b[0mrange\u001b[0m\u001b[0;34m(\u001b[0m\u001b[0mlen\u001b[0m\u001b[0;34m(\u001b[0m\u001b[0mdf\u001b[0m\u001b[0;34m.\u001b[0m\u001b[0mcolumns\u001b[0m\u001b[0;34m)\u001b[0m\u001b[0;34m-\u001b[0m\u001b[0;36m1\u001b[0m\u001b[0;34m)\u001b[0m\u001b[0;34m,\u001b[0m \u001b[0mdf\u001b[0m\u001b[0;34m.\u001b[0m\u001b[0mcolumns\u001b[0m\u001b[0;34m)\u001b[0m\u001b[0;34m\u001b[0m\u001b[0;34m\u001b[0m\u001b[0m\n\u001b[1;32m      4\u001b[0m \u001b[0mplt\u001b[0m\u001b[0;34m.\u001b[0m\u001b[0mcolorbar\u001b[0m\u001b[0;34m(\u001b[0m\u001b[0;34m)\u001b[0m\u001b[0;34m\u001b[0m\u001b[0;34m\u001b[0m\u001b[0m\n\u001b[1;32m      5\u001b[0m \u001b[0mplt\u001b[0m\u001b[0;34m.\u001b[0m\u001b[0mshow\u001b[0m\u001b[0;34m(\u001b[0m\u001b[0;34m)\u001b[0m\u001b[0;34m\u001b[0m\u001b[0;34m\u001b[0m\u001b[0m\n",
            "\u001b[0;31mNameError\u001b[0m: name 'plt' is not defined"
          ]
        }
      ]
    },
    {
      "cell_type": "code",
      "metadata": {
        "id": "FFIEK1oegzNG",
        "colab": {
          "base_uri": "https://localhost:8080/",
          "height": 390
        },
        "outputId": "cf7cb82a-5bbd-4055-900e-b32cc9ade952"
      },
      "source": [
        "df"
      ],
      "execution_count": null,
      "outputs": [
        {
          "output_type": "execute_result",
          "data": {
            "text/html": [
              "<div>\n",
              "<style scoped>\n",
              "    .dataframe tbody tr th:only-of-type {\n",
              "        vertical-align: middle;\n",
              "    }\n",
              "\n",
              "    .dataframe tbody tr th {\n",
              "        vertical-align: top;\n",
              "    }\n",
              "\n",
              "    .dataframe thead th {\n",
              "        text-align: right;\n",
              "    }\n",
              "</style>\n",
              "<table border=\"1\" class=\"dataframe\">\n",
              "  <thead>\n",
              "    <tr style=\"text-align: right;\">\n",
              "      <th></th>\n",
              "      <th>Att1</th>\n",
              "      <th>Att2</th>\n",
              "      <th>Att3</th>\n",
              "      <th>Att4</th>\n",
              "      <th>Att5</th>\n",
              "      <th>Att6</th>\n",
              "      <th>Class</th>\n",
              "    </tr>\n",
              "  </thead>\n",
              "  <tbody>\n",
              "    <tr>\n",
              "      <th>0</th>\n",
              "      <td>2.50</td>\n",
              "      <td>3</td>\n",
              "      <td>3</td>\n",
              "      <td>48</td>\n",
              "      <td>77.0</td>\n",
              "      <td>3</td>\n",
              "      <td>A</td>\n",
              "    </tr>\n",
              "    <tr>\n",
              "      <th>1</th>\n",
              "      <td>5.75</td>\n",
              "      <td>3</td>\n",
              "      <td>3</td>\n",
              "      <td>36</td>\n",
              "      <td>62.0</td>\n",
              "      <td>3</td>\n",
              "      <td>B</td>\n",
              "    </tr>\n",
              "    <tr>\n",
              "      <th>2</th>\n",
              "      <td>1.20</td>\n",
              "      <td>3</td>\n",
              "      <td>2</td>\n",
              "      <td>36</td>\n",
              "      <td>63.0</td>\n",
              "      <td>3</td>\n",
              "      <td>A</td>\n",
              "    </tr>\n",
              "    <tr>\n",
              "      <th>3</th>\n",
              "      <td>8.20</td>\n",
              "      <td>2</td>\n",
              "      <td>1</td>\n",
              "      <td>12</td>\n",
              "      <td>32.0</td>\n",
              "      <td>2</td>\n",
              "      <td>C</td>\n",
              "    </tr>\n",
              "    <tr>\n",
              "      <th>4</th>\n",
              "      <td>4.40</td>\n",
              "      <td>2</td>\n",
              "      <td>2</td>\n",
              "      <td>36</td>\n",
              "      <td>74.0</td>\n",
              "      <td>3</td>\n",
              "      <td>A</td>\n",
              "    </tr>\n",
              "    <tr>\n",
              "      <th>5</th>\n",
              "      <td>5.70</td>\n",
              "      <td>1</td>\n",
              "      <td>3</td>\n",
              "      <td>24</td>\n",
              "      <td>42.0</td>\n",
              "      <td>3</td>\n",
              "      <td>B</td>\n",
              "    </tr>\n",
              "    <tr>\n",
              "      <th>6</th>\n",
              "      <td>7.70</td>\n",
              "      <td>1</td>\n",
              "      <td>2</td>\n",
              "      <td>12</td>\n",
              "      <td>20.0</td>\n",
              "      <td>2</td>\n",
              "      <td>C</td>\n",
              "    </tr>\n",
              "    <tr>\n",
              "      <th>7</th>\n",
              "      <td>8.50</td>\n",
              "      <td>2</td>\n",
              "      <td>2</td>\n",
              "      <td>24</td>\n",
              "      <td>81.0</td>\n",
              "      <td>3</td>\n",
              "      <td>C</td>\n",
              "    </tr>\n",
              "    <tr>\n",
              "      <th>8</th>\n",
              "      <td>10.90</td>\n",
              "      <td>3</td>\n",
              "      <td>1</td>\n",
              "      <td>12</td>\n",
              "      <td>16.0</td>\n",
              "      <td>2</td>\n",
              "      <td>C</td>\n",
              "    </tr>\n",
              "    <tr>\n",
              "      <th>9</th>\n",
              "      <td>5.80</td>\n",
              "      <td>3</td>\n",
              "      <td>1</td>\n",
              "      <td>24</td>\n",
              "      <td>52.0</td>\n",
              "      <td>3</td>\n",
              "      <td>B</td>\n",
              "    </tr>\n",
              "    <tr>\n",
              "      <th>10</th>\n",
              "      <td>3.90</td>\n",
              "      <td>3</td>\n",
              "      <td>3</td>\n",
              "      <td>48</td>\n",
              "      <td>81.0</td>\n",
              "      <td>3</td>\n",
              "      <td>A</td>\n",
              "    </tr>\n",
              "  </tbody>\n",
              "</table>\n",
              "</div>"
            ],
            "text/plain": [
              "     Att1  Att2  Att3  Att4  Att5  Att6 Class\n",
              "0    2.50     3     3    48  77.0     3     A\n",
              "1    5.75     3     3    36  62.0     3     B\n",
              "2    1.20     3     2    36  63.0     3     A\n",
              "3    8.20     2     1    12  32.0     2     C\n",
              "4    4.40     2     2    36  74.0     3     A\n",
              "5    5.70     1     3    24  42.0     3     B\n",
              "6    7.70     1     2    12  20.0     2     C\n",
              "7    8.50     2     2    24  81.0     3     C\n",
              "8   10.90     3     1    12  16.0     2     C\n",
              "9    5.80     3     1    24  52.0     3     B\n",
              "10   3.90     3     3    48  81.0     3     A"
            ]
          },
          "metadata": {
            "tags": []
          },
          "execution_count": 43
        }
      ]
    },
    {
      "cell_type": "code",
      "metadata": {
        "id": "WMJz5YHYnWKa",
        "colab": {
          "base_uri": "https://localhost:8080/",
          "height": 221
        },
        "outputId": "b36793d2-ec4d-46e1-e6fe-8bcf24747755"
      },
      "source": [
        "from sklearn import preprocessing\n",
        "float_array = df['Att5'].values.astype(float)\n",
        "print(df['Att5'])"
      ],
      "execution_count": null,
      "outputs": [
        {
          "output_type": "stream",
          "text": [
            "0     77.0\n",
            "1     62.0\n",
            "2     63.0\n",
            "3     32.0\n",
            "4     74.0\n",
            "5     42.0\n",
            "6     20.0\n",
            "7     81.0\n",
            "8     16.0\n",
            "9     52.0\n",
            "10    81.0\n",
            "Name: Att5, dtype: float64\n"
          ],
          "name": "stdout"
        }
      ]
    },
    {
      "cell_type": "code",
      "metadata": {
        "id": "OZ5xnJV1pRIX",
        "colab": {
          "base_uri": "https://localhost:8080/",
          "height": 221
        },
        "outputId": "55deb043-3995-471e-ce52-fb6a4a374d24"
      },
      "source": [
        "float_array = df['Att5'].values.astype(float)\n",
        "float_array = float_array.reshape(-1,1)\n",
        "min_max_scaler = preprocessing.MinMaxScaler()\n",
        "scaled_array = min_max_scaler.fit_transform(float_array)\n",
        "df['Att5'] = scaled_array"
      ],
      "execution_count": null,
      "outputs": [
        {
          "output_type": "stream",
          "text": [
            "     Att1  Att2  Att3  Att4      Att5  Att6 Class\n",
            "0    2.50     3     3    48  0.938462     3     A\n",
            "1    5.75     3     3    36  0.707692     3     B\n",
            "2    1.20     3     2    36  0.723077     3     A\n",
            "3    8.20     2     1    12  0.246154     2     C\n",
            "4    4.40     2     2    36  0.892308     3     A\n",
            "5    5.70     1     3    24  0.400000     3     B\n",
            "6    7.70     1     2    12  0.061538     2     C\n",
            "7    8.50     2     2    24  1.000000     3     C\n",
            "8   10.90     3     1    12  0.000000     2     C\n",
            "9    5.80     3     1    24  0.553846     3     B\n",
            "10   3.90     3     3    48  1.000000     3     A\n"
          ],
          "name": "stdout"
        }
      ]
    },
    {
      "cell_type": "code",
      "metadata": {
        "id": "FyQ4oKBbrUBs"
      },
      "source": [
        "from sklearn.model_selection import train_test_split\n",
        "x = df.iloc[:,0:6].values\n",
        "y = df.iloc[:,6].values"
      ],
      "execution_count": null,
      "outputs": []
    },
    {
      "cell_type": "code",
      "metadata": {
        "id": "WQsk5gX4ulB9"
      },
      "source": [
        "x_train,x_test,y_train,y_test = train_test_split(x,y,test_size = 0.2, random_state = 0)"
      ],
      "execution_count": null,
      "outputs": []
    },
    {
      "cell_type": "code",
      "metadata": {
        "id": "i1rwAHfwusBl",
        "colab": {
          "base_uri": "https://localhost:8080/",
          "height": 297
        },
        "outputId": "ea69d968-f8f1-474e-f6c9-7a30ddaf35fb"
      },
      "source": [
        "pd.DataFrame(x_train)"
      ],
      "execution_count": null,
      "outputs": [
        {
          "output_type": "execute_result",
          "data": {
            "text/html": [
              "<div>\n",
              "<style scoped>\n",
              "    .dataframe tbody tr th:only-of-type {\n",
              "        vertical-align: middle;\n",
              "    }\n",
              "\n",
              "    .dataframe tbody tr th {\n",
              "        vertical-align: top;\n",
              "    }\n",
              "\n",
              "    .dataframe thead th {\n",
              "        text-align: right;\n",
              "    }\n",
              "</style>\n",
              "<table border=\"1\" class=\"dataframe\">\n",
              "  <thead>\n",
              "    <tr style=\"text-align: right;\">\n",
              "      <th></th>\n",
              "      <th>0</th>\n",
              "      <th>1</th>\n",
              "      <th>2</th>\n",
              "      <th>3</th>\n",
              "      <th>4</th>\n",
              "      <th>5</th>\n",
              "    </tr>\n",
              "  </thead>\n",
              "  <tbody>\n",
              "    <tr>\n",
              "      <th>0</th>\n",
              "      <td>3.90</td>\n",
              "      <td>3.0</td>\n",
              "      <td>3.0</td>\n",
              "      <td>48.0</td>\n",
              "      <td>1.000000</td>\n",
              "      <td>3.0</td>\n",
              "    </tr>\n",
              "    <tr>\n",
              "      <th>1</th>\n",
              "      <td>7.70</td>\n",
              "      <td>1.0</td>\n",
              "      <td>2.0</td>\n",
              "      <td>12.0</td>\n",
              "      <td>0.061538</td>\n",
              "      <td>2.0</td>\n",
              "    </tr>\n",
              "    <tr>\n",
              "      <th>2</th>\n",
              "      <td>5.75</td>\n",
              "      <td>3.0</td>\n",
              "      <td>3.0</td>\n",
              "      <td>36.0</td>\n",
              "      <td>0.707692</td>\n",
              "      <td>3.0</td>\n",
              "    </tr>\n",
              "    <tr>\n",
              "      <th>3</th>\n",
              "      <td>8.50</td>\n",
              "      <td>2.0</td>\n",
              "      <td>2.0</td>\n",
              "      <td>24.0</td>\n",
              "      <td>1.000000</td>\n",
              "      <td>3.0</td>\n",
              "    </tr>\n",
              "    <tr>\n",
              "      <th>4</th>\n",
              "      <td>10.90</td>\n",
              "      <td>3.0</td>\n",
              "      <td>1.0</td>\n",
              "      <td>12.0</td>\n",
              "      <td>0.000000</td>\n",
              "      <td>2.0</td>\n",
              "    </tr>\n",
              "    <tr>\n",
              "      <th>5</th>\n",
              "      <td>8.20</td>\n",
              "      <td>2.0</td>\n",
              "      <td>1.0</td>\n",
              "      <td>12.0</td>\n",
              "      <td>0.246154</td>\n",
              "      <td>2.0</td>\n",
              "    </tr>\n",
              "    <tr>\n",
              "      <th>6</th>\n",
              "      <td>2.50</td>\n",
              "      <td>3.0</td>\n",
              "      <td>3.0</td>\n",
              "      <td>48.0</td>\n",
              "      <td>0.938462</td>\n",
              "      <td>3.0</td>\n",
              "    </tr>\n",
              "    <tr>\n",
              "      <th>7</th>\n",
              "      <td>5.70</td>\n",
              "      <td>1.0</td>\n",
              "      <td>3.0</td>\n",
              "      <td>24.0</td>\n",
              "      <td>0.400000</td>\n",
              "      <td>3.0</td>\n",
              "    </tr>\n",
              "  </tbody>\n",
              "</table>\n",
              "</div>"
            ],
            "text/plain": [
              "       0    1    2     3         4    5\n",
              "0   3.90  3.0  3.0  48.0  1.000000  3.0\n",
              "1   7.70  1.0  2.0  12.0  0.061538  2.0\n",
              "2   5.75  3.0  3.0  36.0  0.707692  3.0\n",
              "3   8.50  2.0  2.0  24.0  1.000000  3.0\n",
              "4  10.90  3.0  1.0  12.0  0.000000  2.0\n",
              "5   8.20  2.0  1.0  12.0  0.246154  2.0\n",
              "6   2.50  3.0  3.0  48.0  0.938462  3.0\n",
              "7   5.70  1.0  3.0  24.0  0.400000  3.0"
            ]
          },
          "metadata": {
            "tags": []
          },
          "execution_count": 81
        }
      ]
    },
    {
      "cell_type": "code",
      "metadata": {
        "id": "a8-jwbSJvGgq",
        "colab": {
          "base_uri": "https://localhost:8080/",
          "height": 297
        },
        "outputId": "e4726579-8b9d-454d-a26b-7fa815f6caba"
      },
      "source": [
        "pd.DataFrame(y_train)"
      ],
      "execution_count": null,
      "outputs": [
        {
          "output_type": "execute_result",
          "data": {
            "text/html": [
              "<div>\n",
              "<style scoped>\n",
              "    .dataframe tbody tr th:only-of-type {\n",
              "        vertical-align: middle;\n",
              "    }\n",
              "\n",
              "    .dataframe tbody tr th {\n",
              "        vertical-align: top;\n",
              "    }\n",
              "\n",
              "    .dataframe thead th {\n",
              "        text-align: right;\n",
              "    }\n",
              "</style>\n",
              "<table border=\"1\" class=\"dataframe\">\n",
              "  <thead>\n",
              "    <tr style=\"text-align: right;\">\n",
              "      <th></th>\n",
              "      <th>0</th>\n",
              "    </tr>\n",
              "  </thead>\n",
              "  <tbody>\n",
              "    <tr>\n",
              "      <th>0</th>\n",
              "      <td>A</td>\n",
              "    </tr>\n",
              "    <tr>\n",
              "      <th>1</th>\n",
              "      <td>C</td>\n",
              "    </tr>\n",
              "    <tr>\n",
              "      <th>2</th>\n",
              "      <td>B</td>\n",
              "    </tr>\n",
              "    <tr>\n",
              "      <th>3</th>\n",
              "      <td>C</td>\n",
              "    </tr>\n",
              "    <tr>\n",
              "      <th>4</th>\n",
              "      <td>C</td>\n",
              "    </tr>\n",
              "    <tr>\n",
              "      <th>5</th>\n",
              "      <td>C</td>\n",
              "    </tr>\n",
              "    <tr>\n",
              "      <th>6</th>\n",
              "      <td>A</td>\n",
              "    </tr>\n",
              "    <tr>\n",
              "      <th>7</th>\n",
              "      <td>B</td>\n",
              "    </tr>\n",
              "  </tbody>\n",
              "</table>\n",
              "</div>"
            ],
            "text/plain": [
              "   0\n",
              "0  A\n",
              "1  C\n",
              "2  B\n",
              "3  C\n",
              "4  C\n",
              "5  C\n",
              "6  A\n",
              "7  B"
            ]
          },
          "metadata": {
            "tags": []
          },
          "execution_count": 83
        }
      ]
    },
    {
      "cell_type": "code",
      "metadata": {
        "id": "-lNiA3HtvTk6",
        "colab": {
          "base_uri": "https://localhost:8080/",
          "height": 142
        },
        "outputId": "4a12c64c-80b7-45e9-b07d-0bb146b25490"
      },
      "source": [
        "pd.DataFrame(x_test)"
      ],
      "execution_count": null,
      "outputs": [
        {
          "output_type": "execute_result",
          "data": {
            "text/html": [
              "<div>\n",
              "<style scoped>\n",
              "    .dataframe tbody tr th:only-of-type {\n",
              "        vertical-align: middle;\n",
              "    }\n",
              "\n",
              "    .dataframe tbody tr th {\n",
              "        vertical-align: top;\n",
              "    }\n",
              "\n",
              "    .dataframe thead th {\n",
              "        text-align: right;\n",
              "    }\n",
              "</style>\n",
              "<table border=\"1\" class=\"dataframe\">\n",
              "  <thead>\n",
              "    <tr style=\"text-align: right;\">\n",
              "      <th></th>\n",
              "      <th>0</th>\n",
              "      <th>1</th>\n",
              "      <th>2</th>\n",
              "      <th>3</th>\n",
              "      <th>4</th>\n",
              "      <th>5</th>\n",
              "    </tr>\n",
              "  </thead>\n",
              "  <tbody>\n",
              "    <tr>\n",
              "      <th>0</th>\n",
              "      <td>4.4</td>\n",
              "      <td>2.0</td>\n",
              "      <td>2.0</td>\n",
              "      <td>36.0</td>\n",
              "      <td>0.892308</td>\n",
              "      <td>3.0</td>\n",
              "    </tr>\n",
              "    <tr>\n",
              "      <th>1</th>\n",
              "      <td>5.8</td>\n",
              "      <td>3.0</td>\n",
              "      <td>1.0</td>\n",
              "      <td>24.0</td>\n",
              "      <td>0.553846</td>\n",
              "      <td>3.0</td>\n",
              "    </tr>\n",
              "    <tr>\n",
              "      <th>2</th>\n",
              "      <td>1.2</td>\n",
              "      <td>3.0</td>\n",
              "      <td>2.0</td>\n",
              "      <td>36.0</td>\n",
              "      <td>0.723077</td>\n",
              "      <td>3.0</td>\n",
              "    </tr>\n",
              "  </tbody>\n",
              "</table>\n",
              "</div>"
            ],
            "text/plain": [
              "     0    1    2     3         4    5\n",
              "0  4.4  2.0  2.0  36.0  0.892308  3.0\n",
              "1  5.8  3.0  1.0  24.0  0.553846  3.0\n",
              "2  1.2  3.0  2.0  36.0  0.723077  3.0"
            ]
          },
          "metadata": {
            "tags": []
          },
          "execution_count": 84
        }
      ]
    },
    {
      "cell_type": "code",
      "metadata": {
        "id": "hqHOkj5XvXH3",
        "colab": {
          "base_uri": "https://localhost:8080/",
          "height": 142
        },
        "outputId": "c380d73e-4de7-4d02-d7fb-fa7c477d4aae"
      },
      "source": [
        "pd.DataFrame(y_test)"
      ],
      "execution_count": null,
      "outputs": [
        {
          "output_type": "execute_result",
          "data": {
            "text/html": [
              "<div>\n",
              "<style scoped>\n",
              "    .dataframe tbody tr th:only-of-type {\n",
              "        vertical-align: middle;\n",
              "    }\n",
              "\n",
              "    .dataframe tbody tr th {\n",
              "        vertical-align: top;\n",
              "    }\n",
              "\n",
              "    .dataframe thead th {\n",
              "        text-align: right;\n",
              "    }\n",
              "</style>\n",
              "<table border=\"1\" class=\"dataframe\">\n",
              "  <thead>\n",
              "    <tr style=\"text-align: right;\">\n",
              "      <th></th>\n",
              "      <th>0</th>\n",
              "    </tr>\n",
              "  </thead>\n",
              "  <tbody>\n",
              "    <tr>\n",
              "      <th>0</th>\n",
              "      <td>A</td>\n",
              "    </tr>\n",
              "    <tr>\n",
              "      <th>1</th>\n",
              "      <td>B</td>\n",
              "    </tr>\n",
              "    <tr>\n",
              "      <th>2</th>\n",
              "      <td>A</td>\n",
              "    </tr>\n",
              "  </tbody>\n",
              "</table>\n",
              "</div>"
            ],
            "text/plain": [
              "   0\n",
              "0  A\n",
              "1  B\n",
              "2  A"
            ]
          },
          "metadata": {
            "tags": []
          },
          "execution_count": 85
        }
      ]
    }
  ]
}